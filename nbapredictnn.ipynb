{
 "cells": [
  {
   "cell_type": "markdown",
   "id": "f46b38ee",
   "metadata": {},
   "source": [
    "## Load necessary libraries"
   ]
  },
  {
   "cell_type": "code",
   "execution_count": 10,
   "id": "36da76db",
   "metadata": {},
   "outputs": [
    {
     "name": "stdout",
     "output_type": "stream",
     "text": [
      "Defaulting to user installation because normal site-packages is not writeable\n",
      "Collecting ipynb\n",
      "  Downloading ipynb-0.5.1-py3-none-any.whl (6.9 kB)\n",
      "Installing collected packages: ipynb\n",
      "Successfully installed ipynb-0.5.1\n",
      "\u001b[33mWARNING: You are using pip version 21.2.4; however, version 25.1.1 is available.\n",
      "You should consider upgrading via the '/Library/Developer/CommandLineTools/usr/bin/python3 -m pip install --upgrade pip' command.\u001b[0m\n",
      "Note: you may need to restart the kernel to use updated packages.\n"
     ]
    }
   ],
   "source": [
    "pip install ipynb"
   ]
  },
  {
   "cell_type": "code",
   "execution_count": 14,
   "id": "f729d5f4",
   "metadata": {},
   "outputs": [],
   "source": [
    "# Download necessary libraries\n",
    "import pandas as pd \n",
    "import numpy as np \n",
    "from datetime import date \n",
    "\n",
    "import seaborn as sns\n",
    "import matplotlib.pyplot as plt\n",
    "from sklearn.feature_selection import VarianceThreshold\n",
    "from ipynb.fs.full.neuralNetwork import *\n",
    "\n",
    "\n",
    "import copy\n",
    "import matplotlib.pyplot as plt\n",
    "import h5py\n",
    "import scipy\n",
    "\n",
    "from sklearn.svm import SVC, SVR\n",
    "from sklearn.model_selection import train_test_split\n",
    "from sklearn.preprocessing import StandardScaler\n",
    "from sklearn.metrics import classification_report, accuracy_score, mean_squared_error\n",
    "from sklearn.impute import SimpleImputer"
   ]
  },
  {
   "cell_type": "markdown",
   "id": "aca8adfe",
   "metadata": {},
   "source": [
    "# Step 1: Load dataset"
   ]
  },
  {
   "cell_type": "code",
   "execution_count": 15,
   "id": "982d46ae",
   "metadata": {},
   "outputs": [],
   "source": [
    "regular_season = pd.read_csv('RegularSeasonStats.csv')\n",
    "playoff = pd.read_csv('PlayoffStats.csv')"
   ]
  },
  {
   "cell_type": "markdown",
   "id": "3e8e0040",
   "metadata": {},
   "source": [
    "## Divide the data into training and test set"
   ]
  },
  {
   "cell_type": "code",
   "execution_count": 25,
   "id": "6a545466",
   "metadata": {},
   "outputs": [],
   "source": [
    "regular_season_copy = regular_season.copy()\n",
    "\n",
    "# Define features and targets\n",
    "X = regular_season_copy.drop(columns=['win'])\n",
    "Y = regular_season_copy['win']\n",
    "\n",
    "# Train/test split\n",
    "X_train, X_test, Y_train, Y_test = train_test_split(X, Y, test_size = 0.2, random_state = 28, stratify = Y)\n",
    "\n",
    "X_train, X_test = X_train.T, X_test.T"
   ]
  },
  {
   "cell_type": "markdown",
   "id": "ccf8c03b",
   "metadata": {},
   "source": [
    "# Step 2: Two-layer Neural Network"
   ]
  },
  {
   "cell_type": "code",
   "execution_count": 27,
   "id": "a922eb4a",
   "metadata": {},
   "outputs": [],
   "source": [
    "### Define the cosntant used through out\n",
    "n_x = X.shape[0]\n",
    "n_h = 4\n",
    "n_y = 1\n",
    "layer_dims = (n_x, n_h, n_y)\n"
   ]
  },
  {
   "cell_type": "code",
   "execution_count": null,
   "id": "9fe94524",
   "metadata": {},
   "outputs": [
    {
     "data": {
      "text/plain": [
       "(36, 24616)"
      ]
     },
     "execution_count": 26,
     "metadata": {},
     "output_type": "execute_result"
    }
   ],
   "source": [
    "def two_layer_model(X, Y, layer_dims, learning_rate = 0.0075, num_iterations = 3000, print_cost = False):\n",
    "    \"\"\"\n",
    "    Implements a two-layer neural network: LINEAR->RELU->LINEAR->SIGMOID\n",
    "\n",
    "    Arguments:\n",
    "    X -- input data, of shape (n_x, number of examples)\n",
    "    Y -- true \"label\" vector (containing 1 if home team wins, 0 if home team losses)\n",
    "    \"\"\""
   ]
  },
  {
   "cell_type": "code",
   "execution_count": 29,
   "id": "00478e20",
   "metadata": {},
   "outputs": [
    {
     "data": {
      "text/plain": [
       "30317    0\n",
       "13233    1\n",
       "28172    0\n",
       "19382    0\n",
       "27753    1\n",
       "Name: win, dtype: int64"
      ]
     },
     "execution_count": 29,
     "metadata": {},
     "output_type": "execute_result"
    }
   ],
   "source": [
    "Y_train.head()"
   ]
  },
  {
   "cell_type": "code",
   "execution_count": null,
   "id": "cab6b983",
   "metadata": {},
   "outputs": [],
   "source": []
  }
 ],
 "metadata": {
  "kernelspec": {
   "display_name": "Python 3",
   "language": "python",
   "name": "python3"
  },
  "language_info": {
   "codemirror_mode": {
    "name": "ipython",
    "version": 3
   },
   "file_extension": ".py",
   "mimetype": "text/x-python",
   "name": "python",
   "nbconvert_exporter": "python",
   "pygments_lexer": "ipython3",
   "version": "3.9.6"
  }
 },
 "nbformat": 4,
 "nbformat_minor": 5
}
