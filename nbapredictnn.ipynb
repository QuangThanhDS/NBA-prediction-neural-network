{
 "cells": [
  {
   "cell_type": "markdown",
   "id": "f46b38ee",
   "metadata": {},
   "source": [
    "## Load necessary libraries"
   ]
  },
  {
   "cell_type": "code",
   "execution_count": 1,
   "id": "f729d5f4",
   "metadata": {},
   "outputs": [],
   "source": [
    "# Download necessary libraries\n",
    "import pandas as pd \n",
    "import numpy as np \n",
    "from datetime import date \n",
    "\n",
    "import seaborn as sns\n",
    "import matplotlib.pyplot as plt\n",
    "from sklearn.feature_selection import VarianceThreshold\n",
    "from ipynb.fs.full.neuralNetwork import *\n",
    "\n",
    "\n",
    "import copy\n",
    "import matplotlib.pyplot as plt\n",
    "import h5py\n",
    "import scipy\n",
    "\n",
    "from sklearn.svm import SVC, SVR\n",
    "from sklearn.model_selection import train_test_split\n",
    "from sklearn.preprocessing import StandardScaler\n",
    "from sklearn.metrics import classification_report, accuracy_score, mean_squared_error\n",
    "from sklearn.impute import SimpleImputer\n",
    "\n",
    "np.random.seed(28)"
   ]
  },
  {
   "cell_type": "markdown",
   "id": "aca8adfe",
   "metadata": {},
   "source": [
    "# Step 1: Load dataset"
   ]
  },
  {
   "cell_type": "code",
   "execution_count": 2,
   "id": "982d46ae",
   "metadata": {},
   "outputs": [],
   "source": [
    "regular_season = pd.read_csv('RegularSeasonStats.csv')\n",
    "playoff = pd.read_csv('PlayoffStats.csv')"
   ]
  },
  {
   "cell_type": "markdown",
   "id": "3e8e0040",
   "metadata": {},
   "source": [
    "## Divide the data into training and test set"
   ]
  },
  {
   "cell_type": "code",
   "execution_count": 3,
   "id": "6a545466",
   "metadata": {},
   "outputs": [],
   "source": [
    "regular_season_copy = regular_season.copy()\n",
    "\n",
    "# Define features and targets\n",
    "X = regular_season_copy.drop(columns=['win'])\n",
    "Y = regular_season_copy['win']\n",
    "\n",
    "# Train/test split\n",
    "X_train, X_test, Y_train, Y_test = train_test_split(X, Y, test_size = 0.2, random_state = 28, stratify = Y)\n",
    "\n",
    "X_train, X_test = X_train.T, X_test.T\n",
    "\n",
    "# Reshape the Y matrix\n",
    "Y_train, Y_test = Y_train.to_numpy().reshape(1, -1), Y_test.to_numpy().reshape(1, -1)\n"
   ]
  },
  {
   "cell_type": "markdown",
   "id": "ccf8c03b",
   "metadata": {},
   "source": [
    "# Step 2: Two-layer Neural Network"
   ]
  },
  {
   "cell_type": "code",
   "execution_count": 4,
   "id": "a922eb4a",
   "metadata": {},
   "outputs": [],
   "source": [
    "### Define the cosntant used through out\n",
    "n_x = X_train.shape[0]\n",
    "n_h = 4\n",
    "n_y = 1\n",
    "layer_dims = (n_x, n_h, n_y)\n"
   ]
  },
  {
   "cell_type": "code",
   "execution_count": 7,
   "id": "9fe94524",
   "metadata": {},
   "outputs": [],
   "source": [
    "def two_layer_model(X, Y, layer_dims, learning_rate = 0.0075, num_iterations = 3000, print_cost = False):\n",
    "    \"\"\"\n",
    "    Implements a two-layer neural network: LINEAR->RELU->LINEAR->SIGMOID\n",
    "\n",
    "    Arguments:\n",
    "    X -- input data, of shape (n_x, number of examples)\n",
    "    Y -- true \"label\" vector (containing 1 if home team wins, 0 if home team losses), of shape (1, number of examples)\n",
    "    layer_dims -- dimensions of the layers (n_x, n_h, n_y)\n",
    "    num_iterations -- number of iterations of the optimization loop\n",
    "    learning_rate -- learning rate of the gradient descent update rule\n",
    "    print_cost -- If set to True, this will print the cost every 100 iterations\n",
    "\n",
    "    Returns:\n",
    "    parametersa -- a dictionary containing W1, b1, W2, and b2\n",
    "    \"\"\"\n",
    "\n",
    "    np.random.seed(28)\n",
    "    grads = {}\n",
    "    costs = []                  # to keep track of the cost function\n",
    "    m = X.shape[1]              # number of examples\n",
    "    (n_x, n_h, n_y) = layer_dims\n",
    "\n",
    "    # Initialize parameters dictionary, using initialize_parameters(n_x, n_h, n_y)\n",
    "    parameters = initialize_parameters(n_x, n_h, n_y)\n",
    "\n",
    "    # Get W1, b1, W2, and b2 from the dictionary parameters\n",
    "    W1 = parameters['W1']\n",
    "    b1 = parameters['b1']\n",
    "    W2 = parameters['W2']\n",
    "    b2 = parameters['b2']\n",
    "\n",
    "    # Loop (gradient descent)\n",
    "    for i in range(0, num_iterations):\n",
    "\n",
    "        # Forward propagation: LINEAR -> RELU -> LINEAR -> SIGMOID. Inputs: \"X, W1, b1, W2, b2\".\n",
    "        # Outputs: \"A1, cache1, A2, cache2\"\n",
    "        A1, cache1 = linear_activataion_forward(X, W1, b1, activation = 'relu')\n",
    "        A2, cache2 = linear_activataion_forward(A1, W2, b2, activation = 'sigmoid')\n",
    "\n",
    "        # Compute cost\n",
    "        cost = compute_cost(A2, Y)\n",
    "\n",
    "        # Initializing backward propagation\n",
    "        dA2 = -(np.divide(Y, A2) - np.divide(1 - Y, 1 - A2))\n",
    "\n",
    "        # Backward propagation. Inputs: \"dA2, cache2, cache1\".\n",
    "        # Outputs: \"dA1, dW2, db2, dA0, dW1, db1\"\n",
    "        dA1, dW2, db2 = linear_activataion_backward(dA2, cache2, activation = 'sigmoid')\n",
    "        dA0, dW1, db1 = linear_activataion_backward(dA1, cache1, activation = 'relu')\n",
    "\n",
    "        # Set grads['dWl'] to dW1, grasd['db1'] to db1, grads['dW2'] to dW2, grads['db2'] to db2\n",
    "        grads['dW1'] = dW1\n",
    "        grads['db1'] = db1\n",
    "        grads['dW2'] = dW2\n",
    "        grads['db2'] = db2\n",
    "\n",
    "        # Update parameters\n",
    "        parameters = update_parameters(parameters, grads, learning_rate)\n",
    "\n",
    "        # Retrieve W1, b1, W2, b2 from parameters\n",
    "        W1 = parameters['W1']\n",
    "        b1 = parameters['b1']\n",
    "        W2 = parameters['W2']\n",
    "        b2 = parameters['b2']\n",
    "\n",
    "        # Print the cost every 100 training examples\n",
    "        if print_cost and i % 100 == 0:\n",
    "            print(\"Cost after iteration {}: {}\".format(i, np.squeeze(cost)))\n",
    "        if print_cost and i % 100 == 0:\n",
    "            costs.append(cost)\n",
    "\n",
    "    # plot the cost\n",
    "\n",
    "    plt.plot(np.squeeze(costs))\n",
    "    plt.ylabel('cost')\n",
    "    plt.xlabel('iterations (per hundreds)')\n",
    "    plt.title(\"Learning rate =\" + str(learning_rate))\n",
    "    plt.show()\n",
    "    \n",
    "    return parameters"
   ]
  },
  {
   "cell_type": "code",
   "execution_count": 8,
   "id": "2369d386",
   "metadata": {},
   "outputs": [
    {
     "name": "stdout",
     "output_type": "stream",
     "text": [
      "Cost after iteration 0: 0.6935549804781725\n",
      "Cost after iteration 100: 0.6884578895507579\n",
      "Cost after iteration 200: 0.6852330883537805\n",
      "Cost after iteration 300: 0.6830007334000741\n",
      "Cost after iteration 400: 0.681359532827352\n",
      "Cost after iteration 500: 0.679418789209043\n",
      "Cost after iteration 600: 0.6751605946538753\n",
      "Cost after iteration 700: 0.6662377145117989\n",
      "Cost after iteration 800: 0.6584516687330455\n",
      "Cost after iteration 900: 0.6551085002006889\n",
      "Cost after iteration 1000: 0.6521830912038643\n",
      "Cost after iteration 1100: 0.641864842184397\n",
      "Cost after iteration 1200: 0.6571798821925028\n",
      "Cost after iteration 1300: 0.6440061479639086\n",
      "Cost after iteration 1400: 0.6397616130413316\n",
      "Cost after iteration 1500: 0.637765197033752\n",
      "Cost after iteration 1600: 0.6355173344886123\n",
      "Cost after iteration 1700: 0.6337381536885984\n",
      "Cost after iteration 1800: 0.6324768041985777\n",
      "Cost after iteration 1900: 0.6310641003382588\n"
     ]
    },
    {
     "data": {
      "image/png": "[encoded data removed]",
      "text/plain": [
       "<Figure size 640x480 with 1 Axes>"
      ]
     },
     "metadata": {},
     "output_type": "display_data"
    }
   ],
   "source": [
    "parameters = two_layer_model(X_train, Y_train, layer_dims = (n_x, n_h, n_y), num_iterations = 2000, print_cost = True)"
   ]
  },
  {
   "cell_type": "code",
   "execution_count": null,
   "id": "2c1dbe7a",
   "metadata": {},
   "outputs": [],
   "source": []
  },
  {
   "cell_type": "code",
   "execution_count": null,
   "id": "29eb54e6",
   "metadata": {},
   "outputs": [],
   "source": []
  }
 ],
 "metadata": {
  "kernelspec": {
   "display_name": "Python 3",
   "language": "python",
   "name": "python3"
  },
  "language_info": {
   "codemirror_mode": {
    "name": "ipython",
    "version": 3
   },
   "file_extension": ".py",
   "mimetype": "text/x-python",
   "name": "python",
   "nbconvert_exporter": "python",
   "pygments_lexer": "ipython3",
   "version": "3.9.6"
  }
 },
 "nbformat": 4,
 "nbformat_minor": 5
}
